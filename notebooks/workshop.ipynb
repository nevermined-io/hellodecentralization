{
 "metadata": {
  "language_info": {
   "codemirror_mode": {
    "name": "ipython",
    "version": 3
   },
   "file_extension": ".py",
   "mimetype": "text/x-python",
   "name": "python",
   "nbconvert_exporter": "python",
   "pygments_lexer": "ipython3",
   "version": 3
  },
  "orig_nbformat": 2
 },
 "nbformat": 4,
 "nbformat_minor": 2,
 "cells": [
  {
   "cell_type": "code",
   "execution_count": null,
   "metadata": {},
   "outputs": [],
   "source": [
    "from contracts_lib_py.account import Account\n",
    "from nevermined_sdk_py import Config, Nevermined\n",
    "from nevermined_sdk_py.nevermined.keeper import NeverminedKeeper as Keeper\n",
    "from common_utils_py.agreements.service_types import ServiceTypesIndices\n",
    "\n",
    "from workshop import utils\n",
    "\n",
    "PROVIDER_ADDRESS = \"0x068Ed00cF0441e4829D9784fCBe7b9e26D4BD8d0\"\n",
    "PROVIDER_PASSWORD = \"secret\"\n",
    "PROVIDER_KEYFILE = \"../resources/accounts/provider.json\"\n",
    "CONFIG_FILE = \"../config.ini\"\n",
    "\n",
    "URL_DATASET_1 = \"https://github.com/nevermined-io/hellodecentralization/raw/main/resources/data/creditcard_part1.csv\"\n",
    "URL_DATASET_2 = \"https://github.com/nevermined-io/hellodecentralization/raw/main/resources/data/creditcard_part2.csv\"\n",
    "\n",
    "CONSUMER_ADDRESS = \"0x00Bd138aBD70e2F00903268F3Db08f2D25677C9e\"\n",
    "CONSUMER_PASSWORD = \"node0\"\n",
    "CONSUMER_KEYFILE = \"../resources/accounts/consumer.json\""
   ]
  },
  {
   "cell_type": "code",
   "execution_count": null,
   "metadata": {},
   "outputs": [],
   "source": []
  }
 ]
}