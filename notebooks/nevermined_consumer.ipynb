{
 "cells": [
  {
   "cell_type": "markdown",
   "metadata": {},
   "source": [
    "### Imports"
   ]
  },
  {
   "cell_type": "code",
   "execution_count": null,
   "metadata": {
    "tags": [
     "parameters"
    ]
   },
   "outputs": [],
   "source": [
    "from datetime import datetime\n",
    "import time\n",
    "\n",
    "from contracts_lib_py.account import Account\n",
    "from common_utils_py.agreements.service_types import ServiceTypesIndices\n",
    "\n",
    "\n",
    "from nevermined_sdk_py import Config, Nevermined\n",
    "from nevermined_sdk_py.nevermined.keeper import NeverminedKeeper as Keeper\n",
    "\n",
    "from workshop import utils\n",
    "\n",
    "CONSUMER_ADDRESS = \"0x00Bd138aBD70e2F00903268F3Db08f2D25677C9e\"\n",
    "CONSUMER_PASSWORD = \"node0\"\n",
    "CONSUMER_KEYFILE = \"../resources/accounts/consumer.json\"\n",
    "CONFIG_FILE = \"../config.ini\"\n",
    "\n",
    "PROVIDER_ADDRESS = \"0x068Ed00cF0441e4829D9784fCBe7b9e26D4BD8d0\"\n",
    "ASSET_COMPUTE_DID_1 = \"did:nv:35ea2cf4fbce0ab1b120f2c330a33ee9e41478c7094cf8553caff32b7b7c51df\"\n",
    "ASSET_COMPUTE_DID_2 = \"did:nv:eb046660d3e8a85efcfd0038e7636efa58d0a83488a47c89e110ef40dbc584b9\"\n",
    "ASSET_COORDINATOR_DID = \"did:nv:347531a023342f93d2c9b9b55eabe2a961bffc53284d79e01f667428d0b540c0\""
   ]
  },
  {
   "cell_type": "markdown",
   "metadata": {},
   "source": [
    "### Setup Nevermined and accounts"
   ]
  },
  {
   "cell_type": "code",
   "execution_count": null,
   "metadata": {},
   "outputs": [],
   "source": [
    "nevermined = Nevermined(Config(CONFIG_FILE))\n",
    "consumer_account = Account(CONSUMER_ADDRESS, CONSUMER_PASSWORD, CONSUMER_KEYFILE)\n",
    "\n",
    "nevermined.accounts.request_tokens(consumer_account, 10)\n"
   ]
  },
  {
   "cell_type": "markdown",
   "metadata": {},
   "source": [
    "### Publish algorithm"
   ]
  },
  {
   "cell_type": "code",
   "execution_count": null,
   "metadata": {},
   "outputs": [],
   "source": [
    "metadata_algorithm = utils.metadata_algorithm_template()\n",
    "\n",
    "metadata_algorithm[\"main\"][\"dateCreated\"] = utils.date_now()\n",
    "metadata_algorithm[\"main\"][\"files\"][0][\"url\"] = \"https://github.com/nevermined-io/hellodecentralization/raw/main/notebooks/federated_fraud_demo.ipynb\"\n",
    "\n",
    "metadata_algorithm[\"main\"][\"algorithm\"][\"entrypoint\"] = (\n",
    "    \"pip install jupyter pandas papermill scikit-learn xain-sdk && \"\n",
    "    \"papermill --stdout-file - federated_fraud_demo.ipynb $NEVERMINED_OUTPUTS_PATH/federated_fraud_demo_output.ipynb\"\n",
    ")\n",
    "\n",
    "metadata_algorithm[\"main\"][\"algorithm\"][\"requirements\"][\"container\"][\"image\"] = \"python\"\n",
    "metadata_algorithm[\"main\"][\"algorithm\"][\"requirements\"][\"container\"][\"tag\"] = \"3.8-slim-buster\"\n",
    "\n",
    "utils.print_json(metadata_algorithm)\n",
    "\n",
    "ddo_algorithm = nevermined.assets.create(metadata_algorithm, consumer_account, providers=[PROVIDER_ADDRESS])\n",
    "print(f\"Algorithm DID: {ddo_algorithm.did}\")"
   ]
  },
  {
   "cell_type": "markdown",
   "metadata": {},
   "source": [
    "### Publish the workflows:\n",
    "\n",
    "- Two for the compute to the data assets\n",
    "- One for the coordinator service"
   ]
  },
  {
   "cell_type": "code",
   "execution_count": null,
   "metadata": {},
   "outputs": [],
   "source": [
    "# Compute asset 1\n",
    "metadata_workflow1 = utils.metadata_workflow_template()\n",
    "\n",
    "metadata_workflow1[\"main\"][\"dateCreated\"] = utils.date_now()\n",
    "metadata_workflow1[\"main\"][\"workflow\"][\"stages\"][0][\"input\"][0][\"id\"] = ASSET_COMPUTE_DID_1\n",
    "metadata_workflow1[\"main\"][\"workflow\"][\"stages\"][0][\"transformation\"][\"id\"] = ddo_algorithm.did\n",
    "\n",
    "utils.print_json(metadata_workflow1)\n",
    "\n",
    "\n",
    "ddo_workflow1 = nevermined.assets.create(metadata_workflow1, consumer_account, providers=[PROVIDER_ADDRESS])\n",
    "print(f\"Workflow DID: {ddo_workflow1.did}\")\n",
    "\n",
    "# Compute asset 2\n",
    "metadata_workflow2 = utils.metadata_workflow_template()\n",
    "metadata_workflow2[\"main\"][\"dateCreated\"] = utils.date_now()\n",
    "metadata_workflow2[\"main\"][\"workflow\"][\"stages\"][0][\"input\"][0][\"id\"] = ASSET_COMPUTE_DID_2\n",
    "metadata_workflow2[\"main\"][\"workflow\"][\"stages\"][0][\"transformation\"][\"id\"] = ddo_algorithm.did\n",
    "\n",
    "utils.print_json(metadata_workflow2)\n",
    "\n",
    "ddo_workflow2 = nevermined.assets.create(metadata_workflow2, consumer_account, providers=[PROVIDER_ADDRESS])\n",
    "print(f\"Workflow DID: {ddo_workflow2.did}\")\n",
    "\n",
    "# Coordinator service\n",
    "metadata_workflow_coordinator = utils.metadata_workflow_coordinator()\n",
    "metadata_workflow_coordinator[\"main\"][\"dateCreated\"] = utils.date_now()\n",
    "metadata_workflow_coordinator[\"main\"][\"datePublished\"] = utils.date_now()\n",
    "\n",
    "utils.print_json(metadata_workflow_coordinator)\n",
    "\n",
    "\n",
    "ddo_workflow_coordinator = nevermined.assets.create(metadata_workflow_coordinator, consumer_account, providers=[PROVIDER_ADDRESS])\n",
    "print(f\"Workflow DID: {ddo_workflow_coordinator.did}\")"
   ]
  },
  {
   "cell_type": "markdown",
   "metadata": {},
   "source": [
    "### Order computations:\n",
    "\n",
    "- One for each data asset\n",
    "- One for the coordinator service\n",
    "\n",
    "In between we want for the blockchain to process the request."
   ]
  },
  {
   "cell_type": "code",
   "execution_count": null,
   "metadata": {},
   "outputs": [],
   "source": [
    "keeper = Keeper.get_instance()\n",
    "\n",
    "service_agreement_id1 = nevermined.assets.order(ASSET_COMPUTE_DID_1, ServiceTypesIndices.DEFAULT_COMPUTING_INDEX, consumer_account, consumer_account)\n",
    "print(f\"Service Agreement ID: {service_agreement_id1}\")\n",
    "utils.wait_for_event(keeper, service_agreement_id1)\n",
    "\n",
    "service_agreement_id2 = nevermined.assets.order(ASSET_COMPUTE_DID_2, ServiceTypesIndices.DEFAULT_COMPUTING_INDEX, consumer_account, consumer_account)\n",
    "print(f\"Service Agreement ID: {service_agreement_id2}\")\n",
    "utils.wait_for_event(keeper, service_agreement_id2)\n",
    "\n",
    "service_agreement_id_coordinator = nevermined.assets.order(ASSET_COORDINATOR_DID, ServiceTypesIndices.DEFAULT_COMPUTING_INDEX, consumer_account, consumer_account)\n",
    "print(f\"Service Agreement ID: {service_agreement_id_coordinator}\")\n",
    "utils.wait_for_event(keeper, service_agreement_id_coordinator)\n"
   ]
  },
  {
   "cell_type": "markdown",
   "metadata": {},
   "source": [
    "### Execute workflows\n",
    "\n",
    "This orders the Nevermined to start the execution of the workflows:\n",
    "- One for each data asset\n",
    "- One for the coordinator service"
   ]
  },
  {
   "cell_type": "code",
   "execution_count": null,
   "metadata": {},
   "outputs": [],
   "source": [
    "execution_id1 = nevermined.assets.execute(\n",
    "    service_agreement_id1,\n",
    "    ASSET_COMPUTE_DID_1,\n",
    "    ServiceTypesIndices.DEFAULT_COMPUTING_INDEX,\n",
    "    consumer_account,\n",
    "    ddo_workflow1.did\n",
    ")\n",
    "print(f\"Execution ID: {execution_id1}\")\n",
    "\n",
    "execution_id2 = nevermined.assets.execute(\n",
    "    service_agreement_id2,\n",
    "    ASSET_COMPUTE_DID_2,\n",
    "    ServiceTypesIndices.DEFAULT_COMPUTING_INDEX,\n",
    "    consumer_account,\n",
    "    ddo_workflow2.did\n",
    ")\n",
    "print(f\"Execution ID: {execution_id2}\")\n",
    "\n",
    "execution_id_coordinator = nevermined.assets.execute(\n",
    "    service_agreement_id_coordinator,\n",
    "    ASSET_COORDINATOR_DID,\n",
    "    ServiceTypesIndices.DEFAULT_COMPUTING_INDEX,\n",
    "    consumer_account,\n",
    "    ddo_workflow_coordinator.did\n",
    ")\n",
    "print(f\"Execution ID: {execution_id_coordinator}\")"
   ]
  },
  {
   "cell_type": "markdown",
   "metadata": {},
   "source": [
    "### Wait for compute jobs to finish"
   ]
  },
  {
   "cell_type": "code",
   "execution_count": null,
   "metadata": {},
   "outputs": [],
   "source": [
    "succeeded = set()\n",
    "failed = set()\n",
    "outputs = set()\n",
    "while len(succeeded) < 3:\n",
    "    for job_id in [execution_id1, execution_id2, execution_id_coordinator]:\n",
    "        result = nevermined.assets.compute_status(service_agreement_id1, job_id, consumer_account)\n",
    "        status = result[\"status\"]\n",
    "        print(f\"{job_id}: {status}\")\n",
    "\n",
    "        if status == \"Succeeded\":\n",
    "            succeeded.add(job_id)\n",
    "            outputs.add(result[\"did\"])\n",
    "        elif status == \"Failed\":\n",
    "            raise Exception(\"Some jobs failed\")\n",
    "    print()\n",
    "    time.sleep(10)\n",
    "\n",
    "for did in outputs:\n",
    "    print(f\"Output DID: {did}\")"
   ]
  },
  {
   "cell_type": "markdown",
   "metadata": {},
   "source": [
    "### Download the results"
   ]
  },
  {
   "cell_type": "code",
   "execution_count": null,
   "metadata": {},
   "outputs": [],
   "source": [
    "for did in outputs:\n",
    "    print(f\"Downloading: {did}\")\n",
    "    nevermined.assets.download(did, ServiceTypesIndices.DEFAULT_ACCESS_INDEX, consumer_account, \"./\")"
   ]
  }
 ],
 "metadata": {
  "kernelspec": {
   "display_name": "Python 3",
   "language": "python",
   "name": "python3"
  },
  "language_info": {
   "codemirror_mode": {
    "name": "ipython",
    "version": 3
   },
   "file_extension": ".py",
   "mimetype": "text/x-python",
   "name": "python",
   "nbconvert_exporter": "python",
   "pygments_lexer": "ipython3",
   "version": "3.9.1"
  }
 },
 "nbformat": 4,
 "nbformat_minor": 4
}
