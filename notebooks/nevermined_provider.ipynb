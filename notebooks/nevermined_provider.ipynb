{
 "cells": [
  {
   "cell_type": "markdown",
   "metadata": {},
   "source": [
    "![DISC](../resources/images/disc.jpg)\n",
    "\n",
    "![Architecture](../resources/images/architecture.jpg)"
   ]
  },
  {
   "cell_type": "markdown",
   "metadata": {},
   "source": [
    "### Imports"
   ]
  },
  {
   "cell_type": "code",
   "execution_count": 1,
   "metadata": {
    "tags": [
     "parameters"
    ]
   },
   "outputs": [],
   "source": [
    "from contracts_lib_py.account import Account\n",
    "from nevermined_sdk_py import Config, Nevermined\n",
    "\n",
    "from workshop import utils\n",
    "\n",
    "PROVIDER_ADDRESS = \"0x068Ed00cF0441e4829D9784fCBe7b9e26D4BD8d0\"\n",
    "PROVIDER_PASSWORD = \"secret\"\n",
    "PROVIDER_KEYFILE = \"../resources/accounts/provider.json\"\n",
    "CONFIG_FILE = \"../config.ini\"\n",
    "\n",
    "URL_DATASET_1 = \"https://github.com/nevermined-io/hellodecentralization/raw/main/resources/data/creditcard_part1.csv\"\n",
    "URL_DATASET_2 = \"https://github.com/nevermined-io/hellodecentralization/raw/main/resources/data/creditcard_part2.csv\""
   ]
  },
  {
   "cell_type": "markdown",
   "metadata": {},
   "source": [
    "### Setup Nevermined and Accounts"
   ]
  },
  {
   "cell_type": "code",
   "execution_count": 2,
   "metadata": {},
   "outputs": [],
   "source": [
    "nevermined = Nevermined(Config(CONFIG_FILE))\n",
    "\n",
    "provider_account = Account(PROVIDER_ADDRESS, PROVIDER_PASSWORD, PROVIDER_KEYFILE)"
   ]
  },
  {
   "cell_type": "markdown",
   "metadata": {},
   "source": [
    "### Publish compute to the data for both data assets"
   ]
  },
  {
   "cell_type": "code",
   "execution_count": 3,
   "metadata": {
    "tags": [
     "compute1_did"
    ]
   },
   "outputs": [
    {
     "name": "stdout",
     "output_type": "stream",
     "text": [
      "{\n",
      "  \"main\": {\n",
      "    \"name\": \"Credit Card Data Part 1\",\n",
      "    \"dateCreated\": null,\n",
      "    \"author\": \"Nevermined Provider\",\n",
      "    \"license\": \"\",\n",
      "    \"price\": null,\n",
      "    \"files\": [\n",
      "      {\n",
      "        \"index\": 0,\n",
      "        \"contentType\": \"text/text\",\n",
      "        \"checksum\": \"0x52b5c93b82dd9e7ecc3d9fdf4755f7f69a54484941897dc517b4adfe3bbc3377\",\n",
      "        \"checksumType\": \"MD5\",\n",
      "        \"contentLength\": \"12057507\",\n",
      "        \"url\": null\n",
      "      }\n",
      "    ],\n",
      "    \"type\": \"dataset\"\n",
      "  }\n",
      "}\n",
      "Compute DID: did:nv:f86b0e3bc9172159923dd08e87950180bc4b7a71405b7734460f6ce73724e65b\n"
     ]
    }
   ],
   "source": [
    "# Asset 1\n",
    "metadata_compute1 = utils.metadata_dataset_template()\n",
    "utils.print_json(metadata_compute1)\n",
    "\n",
    "metadata_compute1[\"main\"][\"dateCreated\"] = utils.date_now()\n",
    "metadata_compute1[\"main\"][\"price\"] = str(1)\n",
    "metadata_compute1[\"main\"][\"files\"][0][\"url\"] = URL_DATASET_1\n",
    "\n",
    "ddo_compute1 = nevermined.assets.create_compute(metadata_compute1, provider_account)\n",
    "print(f\"Compute DID: {ddo_compute1.did}\")"
   ]
  },
  {
   "cell_type": "code",
   "execution_count": 4,
   "metadata": {
    "tags": [
     "compute_did",
     "compute2_did"
    ]
   },
   "outputs": [
    {
     "name": "stdout",
     "output_type": "stream",
     "text": [
      "Compute DID: did:nv:65570ec086f307e32e5da12e6abeeb153c14bce8c1e82c35c5fc3821d211968d\n"
     ]
    }
   ],
   "source": [
    "# Asset 2\n",
    "metadata_compute2 = utils.metadata_dataset_template()\n",
    "metadata_compute2[\"main\"][\"dateCreated\"] = utils.date_now()\n",
    "metadata_compute2[\"main\"][\"price\"] = str(1)\n",
    "metadata_compute2[\"main\"][\"files\"][0][\"url\"] = URL_DATASET_2\n",
    "\n",
    "ddo_compute2 = nevermined.assets.create_compute(metadata_compute2, provider_account)\n",
    "print(f\"Compute DID: {ddo_compute2.did}\")"
   ]
  },
  {
   "cell_type": "markdown",
   "metadata": {},
   "source": [
    "### Publish the coordinator service\n",
    "\n",
    "This service does not provide any data. It only provides compute by hosting the coordinator."
   ]
  },
  {
   "cell_type": "code",
   "execution_count": 5,
   "metadata": {
    "tags": [
     "compute3_did"
    ]
   },
   "outputs": [
    {
     "name": "stdout",
     "output_type": "stream",
     "text": [
      "{\n",
      "  \"main\": {\n",
      "    \"name\": \"Coordinator\",\n",
      "    \"dateCreated\": null,\n",
      "    \"author\": \"Nevermined Coordinator Provider\",\n",
      "    \"license\": \"\",\n",
      "    \"price\": null,\n",
      "    \"files\": [],\n",
      "    \"type\": \"compute\"\n",
      "  }\n",
      "}\n",
      "Compute DID: did:nv:4efddfe44b3f6cd7e6a6847ec492ab0baf72bbda1507eede6ead543f16856935\n"
     ]
    }
   ],
   "source": [
    "# Coordinator service\n",
    "metadata_compute_coordinator = utils.metadata_compute_template()\n",
    "utils.print_json(metadata_compute_coordinator)\n",
    "\n",
    "metadata_compute_coordinator[\"main\"][\"dateCreated\"] = utils.date_now()\n",
    "metadata_compute_coordinator[\"main\"][\"price\"] = str(1)\n",
    "\n",
    "ddo_compute_coordinator = nevermined.assets.create_compute(metadata_compute_coordinator, provider_account)\n",
    "print(f\"Compute DID: {ddo_compute_coordinator.did}\")"
   ]
  }
 ],
 "metadata": {
  "kernelspec": {
   "display_name": "Python 3",
   "language": "python",
   "name": "python3"
  },
  "language_info": {
   "codemirror_mode": {
    "name": "ipython",
    "version": 3
   },
   "file_extension": ".py",
   "mimetype": "text/x-python",
   "name": "python",
   "nbconvert_exporter": "python",
   "pygments_lexer": "ipython3",
   "version": "3.9.1"
  }
 },
 "nbformat": 4,
 "nbformat_minor": 4
}
